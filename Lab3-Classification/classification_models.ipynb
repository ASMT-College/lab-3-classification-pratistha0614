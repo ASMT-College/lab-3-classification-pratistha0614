{
 "cells": [
  {
   "cell_type": "markdown",
   "id": "1dca8eaa",
   "metadata": {},
   "source": [
    "Naive Bayes Classifier"
   ]
  },
  {
   "cell_type": "code",
   "execution_count": 11,
   "id": "415486c5",
   "metadata": {},
   "outputs": [
    {
     "name": "stdout",
     "output_type": "stream",
     "text": [
      "🔍 Naive Bayes Classification Report:\n",
      "\n",
      "              precision    recall  f1-score   support\n",
      "\n",
      "           0       0.00      0.00      0.00       1.0\n",
      "           1       0.00      0.00      0.00       1.0\n",
      "\n",
      "    accuracy                           0.00       2.0\n",
      "   macro avg       0.00      0.00      0.00       2.0\n",
      "weighted avg       0.00      0.00      0.00       2.0\n",
      "\n",
      "Naive Bayes Accuracy: 0.00\n"
     ]
    }
   ],
   "source": [
    "import pandas as pd\n",
    "from sklearn.model_selection import train_test_split\n",
    "from sklearn.naive_bayes import GaussianNB\n",
    "from sklearn.metrics import accuracy_score, classification_report\n",
    "\n",
    "# Load dataset\n",
    "df = pd.read_csv('diabetes_data.csv')\n",
    "\n",
    "# Split features and target\n",
    "X = df.drop(columns='Outcome')\n",
    "y = df['Outcome']\n",
    "\n",
    "# Train-test split\n",
    "X_train, X_test, y_train, y_test = train_test_split(X, y, test_size=0.3, random_state=42)\n",
    "\n",
    "# Initialize and train Naive Bayes\n",
    "nb_model = GaussianNB()\n",
    "nb_model.fit(X_train, y_train)\n",
    "\n",
    "# Predictions\n",
    "y_pred_nb = nb_model.predict(X_test)\n",
    "\n",
    "# Evaluation\n",
    "print(\"🔍 Naive Bayes Classification Report:\\n\")\n",
    "print(classification_report(y_test, y_pred_nb))\n",
    "accuracy_nb = accuracy_score(y_test, y_pred_nb)\n",
    "print(f\"Naive Bayes Accuracy: {accuracy_nb:.2f}\")\n"
   ]
  },
  {
   "cell_type": "markdown",
   "id": "dc3b6262",
   "metadata": {},
   "source": [
    " ID3 Decision Tree Classifier"
   ]
  },
  {
   "cell_type": "code",
   "execution_count": null,
   "id": "be94520f",
   "metadata": {},
   "outputs": [
    {
     "name": "stdout",
     "output_type": "stream",
     "text": [
      "\n",
      "🌳 Decision Tree (ID3) Classification Report:\n",
      "              precision    recall  f1-score   support\n",
      "\n",
      "           0       0.50      1.00      0.67         1\n",
      "           1       0.00      0.00      0.00         1\n",
      "\n",
      "    accuracy                           0.50         2\n",
      "   macro avg       0.25      0.50      0.33         2\n",
      "weighted avg       0.25      0.50      0.33         2\n",
      "\n",
      "Decision Tree Accuracy: 0.50\n"
     ]
    }
   ],
   "source": [
    "import pandas as pd\n",
    "from sklearn.model_selection import train_test_split\n",
    "from sklearn.tree import DecisionTreeClassifier\n",
    "from sklearn.metrics import accuracy_score, classification_report, confusion_matrix, roc_auc_score\n",
    "\n",
    "# Step 1: Load the dataset\n",
    "df = pd.read_csv('diabetes_data.csv')\n",
    "\n",
    "# Step 2: Split the data into features and target\n",
    "X = df.drop(columns='Outcome')\n",
    "y = df['Outcome']\n",
    "\n",
    "# Step 3: Train-test split\n",
    "X_train, X_test, y_train, y_test = train_test_split(\n",
    "    X, y, test_size=0.3, random_state=42\n",
    ")\n",
    "\n",
    "# Step 4: Initialize and train the ID3 Decision Tree (using entropy)\n",
    "dt_model = DecisionTreeClassifier(criterion='entropy', random_state=42)\n",
    "dt_model.fit(X_train, y_train)\n",
    "\n",
    "# Step 5: Make predictions\n",
    "y_pred_dt = dt_model.predict(X_test)\n",
    "\n",
    "# Step 6: Evaluate the model\n",
    "accuracy_dt = accuracy_score(y_test, y_pred_dt)\n",
    "print(\"\\n🌳 Decision Tree (ID3) Classification Report:\")\n",
    "print(classification_report(y_test, y_pred_dt, zero_division=0))\n",
    "print(f\"Decision Tree Accuracy: {accuracy_dt:.2f}\")\n"
   ]
  },
  {
   "cell_type": "markdown",
   "id": "d2fe1a5c",
   "metadata": {},
   "source": [
    "Model Comparison"
   ]
  },
  {
   "cell_type": "code",
   "execution_count": 13,
   "id": "016a71ef",
   "metadata": {},
   "outputs": [
    {
     "name": "stdout",
     "output_type": "stream",
     "text": [
      "\n",
      "📊 Comparison of Naive Bayes vs Decision Tree:\n",
      "\n",
      "Naive Bayes Accuracy: 0.00\n",
      "Decision Tree Accuracy: 0.50\n",
      "Naive Bayes ROC AUC: 0.00\n",
      "Decision Tree ROC AUC: 0.50\n",
      "\n",
      "Confusion Matrix - Naive Bayes:\n",
      " [[0 1]\n",
      " [1 0]]\n",
      "\n",
      "Confusion Matrix - Decision Tree:\n",
      " [[1 0]\n",
      " [1 0]]\n"
     ]
    }
   ],
   "source": [
    "from sklearn.metrics import confusion_matrix, roc_auc_score\n",
    "\n",
    "# Confusion matrices\n",
    "cm_nb = confusion_matrix(y_test, y_pred_nb)\n",
    "cm_dt = confusion_matrix(y_test, y_pred_dt)\n",
    "\n",
    "# ROC AUC\n",
    "roc_nb = roc_auc_score(y_test, y_pred_nb)\n",
    "roc_dt = roc_auc_score(y_test, y_pred_dt)\n",
    "\n",
    "# Summary\n",
    "print(\"\\n📊 Comparison of Naive Bayes vs Decision Tree:\\n\")\n",
    "print(f\"Naive Bayes Accuracy: {accuracy_nb:.2f}\")\n",
    "print(f\"Decision Tree Accuracy: {accuracy_dt:.2f}\")\n",
    "print(f\"Naive Bayes ROC AUC: {roc_nb:.2f}\")\n",
    "print(f\"Decision Tree ROC AUC: {roc_dt:.2f}\")\n",
    "print(\"\\nConfusion Matrix - Naive Bayes:\\n\", cm_nb)\n",
    "print(\"\\nConfusion Matrix - Decision Tree:\\n\", cm_dt)\n"
   ]
  }
 ],
 "metadata": {
  "kernelspec": {
   "display_name": "base",
   "language": "python",
   "name": "python3"
  },
  "language_info": {
   "codemirror_mode": {
    "name": "ipython",
    "version": 3
   },
   "file_extension": ".py",
   "mimetype": "text/x-python",
   "name": "python",
   "nbconvert_exporter": "python",
   "pygments_lexer": "ipython3",
   "version": "3.9.13"
  }
 },
 "nbformat": 4,
 "nbformat_minor": 5
}
